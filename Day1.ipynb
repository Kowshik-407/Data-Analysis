{
 "cells": [
  {
   "cell_type": "markdown",
   "metadata": {},
   "source": [
    "# Heading1"
   ]
  },
  {
   "cell_type": "markdown",
   "metadata": {},
   "source": [
    "## Heading2"
   ]
  },
  {
   "cell_type": "markdown",
   "metadata": {},
   "source": [
    "### Heading3"
   ]
  },
  {
   "cell_type": "markdown",
   "metadata": {},
   "source": [
    "**Bold**"
   ]
  },
  {
   "cell_type": "markdown",
   "metadata": {},
   "source": [
    "__Bold__"
   ]
  },
  {
   "cell_type": "markdown",
   "metadata": {},
   "source": [
    "*Italic*"
   ]
  },
  {
   "cell_type": "markdown",
   "metadata": {},
   "source": [
    "_Italic_"
   ]
  },
  {
   "cell_type": "markdown",
   "metadata": {},
   "source": [
    "***Bold_Italic***"
   ]
  },
  {
   "cell_type": "markdown",
   "metadata": {},
   "source": [
    "___Bold_Italic___"
   ]
  },
  {
   "cell_type": "markdown",
   "metadata": {},
   "source": [
    "Note ::) \n",
    "1. For the Headings We can have\n",
    "           \n",
    "            # Heading1\n",
    "           ## Heading2\n",
    "          ### Heading3 ... upto Heading6\n",
    "2. For the bold \n",
    "            **Bold**    __Bold__\n",
    "3. For the Italic \n",
    "            *Italic*    _Italic_\n",
    "4. For the Bold Italic\n",
    "            ***BoldItalic***  ___BoldItalic___\n",
    "\n",
    "Keyboard Shortcuts\n",
    "                1. a --> Above cell\n",
    "                2. b --> Below cell\n",
    "                3. x --> To delete the cell or to cut the cell\n",
    "                4. z --> For Undo\n",
    "                5. m --> markdown\n",
    "                6. y --> code\n",
    "                7. v --> Paste\n",
    "                8. c --> Copy\n",
    "                9. shft + etr --> To run the cell\n",
    "                10. f --> find and replace\n",
    "                11. j --> moving Down\n",
    "                12. k --> moving up\n",
    "                13. h --> Key Board Shortcuts"
   ]
  },
  {
   "cell_type": "markdown",
   "metadata": {},
   "source": [
    " # We can have directly without mouse cursor"
   ]
  },
  {
   "cell_type": "markdown",
   "metadata": {},
   "source": [
    "1. To get out of the cell --> Esc\n",
    "2. To remove the code     --> m\n",
    "3. To remove the markdown --> y\n",
    "4. To enter into the cell --> Enter"
   ]
  },
  {
   "cell_type": "code",
   "execution_count": null,
   "metadata": {},
   "outputs": [],
   "source": []
  }
 ],
 "metadata": {
  "kernelspec": {
   "display_name": "Python 3",
   "language": "python",
   "name": "python3"
  },
  "language_info": {
   "codemirror_mode": {
    "name": "ipython",
    "version": 3
   },
   "file_extension": ".py",
   "mimetype": "text/x-python",
   "name": "python",
   "nbconvert_exporter": "python",
   "pygments_lexer": "ipython3",
   "version": "3.7.6"
  }
 },
 "nbformat": 4,
 "nbformat_minor": 4
}
